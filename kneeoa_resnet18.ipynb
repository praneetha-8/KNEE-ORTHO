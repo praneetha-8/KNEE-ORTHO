{
 "cells": [
  {
   "cell_type": "markdown",
   "id": "949cb6c1",
   "metadata": {},
   "source": [
    "# 1. Imports and Device Setup\n",
    "\n",
    "This cell imports all required modules for data handling, model building, training, and evaluation. It also sets up the device (GPU or CPU) for PyTorch computations.\n"
   ]
  },
  {
   "cell_type": "code",
   "execution_count": 1,
   "id": "b4131b17",
   "metadata": {},
   "outputs": [
    {
     "name": "stdout",
     "output_type": "stream",
     "text": [
      "Using device: cuda\n"
     ]
    }
   ],
   "source": [
    "import os\n",
    "import numpy as np\n",
    "import torch\n",
    "import torch.nn as nn\n",
    "import torch.optim as optim\n",
    "from torchvision import datasets, transforms, models\n",
    "from torch.utils.data import DataLoader, WeightedRandomSampler\n",
    "from sklearn.metrics import classification_report, confusion_matrix\n",
    "import matplotlib.pyplot as plt\n",
    "import seaborn as sns\n",
    "\n",
    "device = torch.device(\"cuda\" if torch.cuda.is_available() else \"cpu\")\n",
    "print(f\"Using device: {device}\")\n"
   ]
  },
  {
   "cell_type": "markdown",
   "id": "882e789e",
   "metadata": {},
   "source": [
    "# 2. EarlyStopping and FocalLoss\n",
    "\n",
    "This cell defines two utility classes:\n",
    "- `EarlyStopping` for halting training when validation loss stops improving, preventing overfitting.\n",
    "- `FocalLoss`, a custom loss function that helps address class imbalance by focusing the model more on hard-to-classify examples.\n",
    "\n"
   ]
  },
  {
   "cell_type": "code",
   "execution_count": 2,
   "id": "8161c08f",
   "metadata": {},
   "outputs": [],
   "source": [
    "class EarlyStopping:\n",
    "    def __init__(self, patience=10, min_delta=0.001):\n",
    "        self.patience = patience\n",
    "        self.min_delta = min_delta\n",
    "        self.counter = 0\n",
    "        self.best_loss = float('inf')\n",
    "        self.early_stop = False\n",
    "\n",
    "    def __call__(self, val_loss):\n",
    "        if val_loss < self.best_loss - self.min_delta:\n",
    "            self.best_loss = val_loss\n",
    "            self.counter = 0\n",
    "        else:\n",
    "            self.counter += 1\n",
    "            if self.counter >= self.patience:\n",
    "                self.early_stop = True\n"
   ]
  },
  {
   "cell_type": "markdown",
   "id": "e1abcfda",
   "metadata": {},
   "source": [
    "# 3. Data Transforms, Datasets, and Weighted Sampler\n",
    "\n",
    "This cell sets up data augmentation and normalization for training and validation/test datasets. \n",
    "It also constructs PyTorch `ImageFolder` datasets and uses a weighted random sampler to address class imbalance during training.\n"
   ]
  },
  {
   "cell_type": "code",
   "execution_count": 3,
   "id": "0c318c39",
   "metadata": {},
   "outputs": [],
   "source": [
    "from sklearn.utils.class_weight import compute_class_weight\n",
    "\n",
    "train_transform = transforms.Compose([\n",
    "    transforms.Resize((128, 128)),\n",
    "    transforms.RandomHorizontalFlip(),\n",
    "    transforms.RandomRotation(10),\n",
    "    transforms.ColorJitter(brightness=0.15, contrast=0.2),\n",
    "    transforms.RandomAutocontrast(),\n",
    "    transforms.ToTensor(),\n",
    "    transforms.Normalize(mean=[0.485, 0.456, 0.406], std=[0.229, 0.224, 0.225])\n",
    "])\n",
    "val_transform = transforms.Compose([\n",
    "    transforms.Resize((128, 128)),\n",
    "    transforms.ToTensor(),\n",
    "    transforms.Normalize(mean=[0.485, 0.456, 0.406], std=[0.229, 0.224, 0.225])\n",
    "])\n",
    "\n",
    "data_dir = \"knee\"\n",
    "train_ds = datasets.ImageFolder(os.path.join(data_dir, 'train'), transform=train_transform)\n",
    "val_ds = datasets.ImageFolder(os.path.join(data_dir, 'val'), transform=val_transform)\n",
    "test_ds = datasets.ImageFolder(os.path.join(data_dir, 'test'), transform=val_transform)\n",
    "\n",
    "# Compute class weights for loss\n",
    "targets = [label for _, label in train_ds]\n",
    "class_weights = compute_class_weight('balanced', classes=np.unique(targets), y=targets)\n",
    "class_weights = torch.tensor(class_weights, dtype=torch.float).to(device)\n",
    "\n",
    "# Weighted sampler for DataLoader\n",
    "weights = 1. / np.bincount(targets)\n",
    "sample_weights = [weights[label] for label in targets]\n",
    "sampler = WeightedRandomSampler(sample_weights, len(sample_weights), replacement=True)\n",
    "\n",
    "train_loader = DataLoader(train_ds, batch_size=32, sampler=sampler)\n",
    "val_loader = DataLoader(val_ds, batch_size=32)\n",
    "test_loader = DataLoader(test_ds, batch_size=32)\n",
    "class_names = train_ds.classes\n"
   ]
  },
  {
   "cell_type": "markdown",
   "id": "c1da800e",
   "metadata": {},
   "source": [
    "# 4. Improved Model Definition\n",
    "\n",
    "This cell defines the neural network architecture for KL grade classification. \n",
    "It uses a ResNet34 backbone for feature extraction and a custom classifier head with dropout and batch normalization for better generalization.\n"
   ]
  },
  {
   "cell_type": "code",
   "execution_count": 4,
   "id": "6f6a5507",
   "metadata": {},
   "outputs": [
    {
     "name": "stderr",
     "output_type": "stream",
     "text": [
      "c:\\uni\\idp\\.venv\\Lib\\site-packages\\torchvision\\models\\_utils.py:208: UserWarning: The parameter 'pretrained' is deprecated since 0.13 and may be removed in the future, please use 'weights' instead.\n",
      "  warnings.warn(\n",
      "c:\\uni\\idp\\.venv\\Lib\\site-packages\\torchvision\\models\\_utils.py:223: UserWarning: Arguments other than a weight enum or `None` for 'weights' are deprecated since 0.13 and may be removed in the future. The current behavior is equivalent to passing `weights=ResNet18_Weights.IMAGENET1K_V1`. You can also use `weights=ResNet18_Weights.DEFAULT` to get the most up-to-date weights.\n",
      "  warnings.warn(msg)\n"
     ]
    }
   ],
   "source": [
    "class KLClassifier(nn.Module):\n",
    "    def __init__(self, num_classes=5):\n",
    "        super(KLClassifier, self).__init__()\n",
    "        resnet = models.resnet18(pretrained=True)\n",
    "        self.backbone = nn.Sequential(*list(resnet.children())[:-1])\n",
    "        self.classifier = nn.Sequential(\n",
    "            nn.Flatten(),\n",
    "            nn.Linear(512, 256),\n",
    "            nn.BatchNorm1d(256),\n",
    "            nn.ReLU(),\n",
    "            nn.Dropout(0.4),\n",
    "            nn.Linear(256, num_classes)\n",
    "        )\n",
    "\n",
    "    def forward(self, x):\n",
    "        x = self.backbone(x)\n",
    "        x = self.classifier(x)\n",
    "        return x\n",
    "\n",
    "model = KLClassifier(num_classes=5).to(device)\n"
   ]
  },
  {
   "cell_type": "markdown",
   "id": "7ef0f00a",
   "metadata": {},
   "source": [
    "# 5. Loss, Optimizer, and Scheduler\n",
    "\n",
    "Here we set up the loss function (Focal Loss for class imbalance), optimizer (AdamW for regularization), \n",
    "and a learning rate scheduler that reduces the learning rate when validation accuracy plateaus.\n"
   ]
  },
  {
   "cell_type": "code",
   "execution_count": 5,
   "id": "a7807ea0",
   "metadata": {},
   "outputs": [
    {
     "name": "stderr",
     "output_type": "stream",
     "text": [
      "c:\\uni\\idp\\.venv\\Lib\\site-packages\\torch\\optim\\lr_scheduler.py:62: UserWarning: The verbose parameter is deprecated. Please use get_last_lr() to access the learning rate.\n",
      "  warnings.warn(\n"
     ]
    }
   ],
   "source": [
    "criterion = nn.CrossEntropyLoss(weight=class_weights)\n",
    "optimizer = optim.AdamW(model.parameters(), lr=1e-4, weight_decay=1e-4)\n",
    "scheduler = torch.optim.lr_scheduler.ReduceLROnPlateau(optimizer, mode='min', patience=3, factor=0.5, verbose=True)\n"
   ]
  },
  {
   "cell_type": "markdown",
   "id": "2f670e68",
   "metadata": {},
   "source": [
    "# 6. Training Loop with Mixed Precision and Early Stopping\n",
    "\n",
    "This function handles the training process, including:\n",
    "- Mixed precision for faster training,\n",
    "- Early stopping to avoid overfitting,\n",
    "- Learning rate scheduling,\n",
    "- Tracking and printing of training/validation accuracy and loss.\n"
   ]
  },
  {
   "cell_type": "code",
   "execution_count": 6,
   "id": "8d8cb86f",
   "metadata": {},
   "outputs": [],
   "source": [
    "def train_model(model, train_loader, val_loader, epochs=25, patience=7):\n",
    "    best_val_acc = 0.0\n",
    "    history = {\"train_loss\": [], \"train_acc\": [], \"val_loss\": [], \"val_acc\": []}\n",
    "    early_stopping = EarlyStopping(patience=patience, min_delta=0.001)\n",
    "\n",
    "    for epoch in range(epochs):\n",
    "        model.train()\n",
    "        running_loss, correct = 0.0, 0\n",
    "        for images, labels in train_loader:\n",
    "            images, labels = images.to(device), labels.to(device)\n",
    "            optimizer.zero_grad()\n",
    "            outputs = model(images)\n",
    "            loss = criterion(outputs, labels)\n",
    "            loss.backward()\n",
    "            optimizer.step()\n",
    "            running_loss += loss.item()\n",
    "            correct += (outputs.argmax(1) == labels).sum().item()\n",
    "        train_loss = running_loss / len(train_loader)\n",
    "        train_acc = correct / len(train_loader.dataset)\n",
    "\n",
    "        # Validation\n",
    "        model.eval()\n",
    "        val_loss, val_correct = 0.0, 0\n",
    "        with torch.no_grad():\n",
    "            for images, labels in val_loader:\n",
    "                images, labels = images.to(device), labels.to(device)\n",
    "                outputs = model(images)\n",
    "                val_loss += criterion(outputs, labels).item()\n",
    "                val_correct += (outputs.argmax(1) == labels).sum().item()\n",
    "        val_loss /= len(val_loader)\n",
    "        val_acc = val_correct / len(val_loader.dataset)\n",
    "\n",
    "        scheduler.step(val_loss)\n",
    "        early_stopping(val_loss)\n",
    "        history[\"train_loss\"].append(train_loss)\n",
    "        history[\"train_acc\"].append(train_acc)\n",
    "        history[\"val_loss\"].append(val_loss)\n",
    "        history[\"val_acc\"].append(val_acc)\n",
    "        print(f\"Epoch {epoch+1}/{epochs} → Train Acc: {train_acc:.4f}, Val Acc: {val_acc:.4f}, Loss: {train_loss:.4f}\")\n",
    "\n",
    "        if val_acc > best_val_acc:\n",
    "            best_val_acc = val_acc\n",
    "            torch.save(model.state_dict(), \"best_resnet_model.pth\")\n",
    "            print(\"✅ Model saved.\")\n",
    "\n",
    "        if early_stopping.early_stop:\n",
    "            print(f\"⛔ Early stopping triggered at epoch {epoch+1}.\")\n",
    "            break\n",
    "    return history\n"
   ]
  },
  {
   "cell_type": "markdown",
   "id": "6ade6a11",
   "metadata": {},
   "source": [
    "# 7. Train the Model\n",
    "\n",
    "This cell runs the training function and stores the training history for later visualization.\n"
   ]
  },
  {
   "cell_type": "code",
   "execution_count": 7,
   "id": "26946575",
   "metadata": {},
   "outputs": [
    {
     "name": "stdout",
     "output_type": "stream",
     "text": [
      "Epoch 1/25 → Train Acc: 0.4012, Val Acc: 0.2760, Loss: 0.8227\n",
      "✅ Model saved.\n",
      "Epoch 2/25 → Train Acc: 0.5393, Val Acc: 0.3414, Loss: 0.4896\n",
      "✅ Model saved.\n",
      "Epoch 3/25 → Train Acc: 0.5772, Val Acc: 0.3947, Loss: 0.4336\n",
      "✅ Model saved.\n",
      "Epoch 4/25 → Train Acc: 0.5966, Val Acc: 0.4758, Loss: 0.3966\n",
      "✅ Model saved.\n",
      "Epoch 5/25 → Train Acc: 0.6189, Val Acc: 0.3705, Loss: 0.3736\n",
      "Epoch 6/25 → Train Acc: 0.6334, Val Acc: 0.4116, Loss: 0.3400\n",
      "Epoch 7/25 → Train Acc: 0.6352, Val Acc: 0.3923, Loss: 0.3370\n",
      "Epoch 8/25 → Train Acc: 0.6499, Val Acc: 0.5339, Loss: 0.3295\n",
      "✅ Model saved.\n",
      "Epoch 9/25 → Train Acc: 0.6494, Val Acc: 0.4952, Loss: 0.3261\n",
      "Epoch 10/25 → Train Acc: 0.6748, Val Acc: 0.3971, Loss: 0.2998\n",
      "Epoch 11/25 → Train Acc: 0.6732, Val Acc: 0.4407, Loss: 0.3118\n",
      "Epoch 12/25 → Train Acc: 0.6748, Val Acc: 0.5000, Loss: 0.2987\n",
      "Epoch 13/25 → Train Acc: 0.7042, Val Acc: 0.5484, Loss: 0.2651\n",
      "✅ Model saved.\n",
      "Epoch 14/25 → Train Acc: 0.7115, Val Acc: 0.5521, Loss: 0.2602\n",
      "✅ Model saved.\n",
      "Epoch 15/25 → Train Acc: 0.7290, Val Acc: 0.5569, Loss: 0.2445\n",
      "✅ Model saved.\n",
      "Epoch 16/25 → Train Acc: 0.7319, Val Acc: 0.5242, Loss: 0.2461\n",
      "Epoch 17/25 → Train Acc: 0.7452, Val Acc: 0.5472, Loss: 0.2305\n",
      "Epoch 18/25 → Train Acc: 0.7515, Val Acc: 0.5351, Loss: 0.2181\n",
      "Epoch 19/25 → Train Acc: 0.7570, Val Acc: 0.5242, Loss: 0.2212\n",
      "Epoch 20/25 → Train Acc: 0.7773, Val Acc: 0.5666, Loss: 0.1936\n",
      "✅ Model saved.\n",
      "Epoch 21/25 → Train Acc: 0.7799, Val Acc: 0.5375, Loss: 0.2004\n",
      "Epoch 22/25 → Train Acc: 0.7818, Val Acc: 0.5460, Loss: 0.1902\n",
      "⛔ Early stopping triggered at epoch 22.\n"
     ]
    }
   ],
   "source": [
    "history = train_model(model, train_loader, val_loader, epochs=25)\n"
   ]
  },
  {
   "cell_type": "markdown",
   "id": "ec965755",
   "metadata": {},
   "source": [
    "# 8. Plot Accuracy & Loss\n",
    "\n",
    "This cell visualizes the training and validation accuracy and loss curves over epochs, \n",
    "helping to diagnose overfitting or underfitting.\n"
   ]
  },
  {
   "cell_type": "code",
   "execution_count": 8,
   "id": "edee6903",
   "metadata": {},
   "outputs": [
    {
     "data": {
      "image/png": "[encoded data removed]",
      "text/plain": [
       "<Figure size 1000x400 with 2 Axes>"
      ]
     },
     "metadata": {},
     "output_type": "display_data"
    }
   ],
   "source": [
    "plt.figure(figsize=(10, 4))\n",
    "plt.subplot(1, 2, 1)\n",
    "plt.plot(history['train_acc'], label='Train Accuracy')\n",
    "plt.plot(history['val_acc'], label='Validation Accuracy')\n",
    "plt.title('Accuracy Over Epochs')\n",
    "plt.xlabel('Epoch')\n",
    "plt.ylabel('Accuracy')\n",
    "plt.legend()\n",
    "\n",
    "plt.subplot(1, 2, 2)\n",
    "plt.plot(history['train_loss'], label='Train Loss')\n",
    "plt.plot(history['val_loss'], label='Validation Loss')\n",
    "plt.title('Loss Over Epochs')\n",
    "plt.xlabel('Epoch')\n",
    "plt.ylabel('Loss')\n",
    "plt.legend()\n",
    "\n",
    "plt.tight_layout()\n",
    "plt.show()\n"
   ]
  },
  {
   "cell_type": "markdown",
   "id": "54d6a22b",
   "metadata": {},
   "source": [
    "# 9. Load Best Model and Evaluate on Test Set\n",
    "\n",
    "This cell loads the best model weights (based on validation accuracy) and evaluates the model on the test set, \n",
    "printing a classification report with precision, recall, and F1-score for each class.\n"
   ]
  },
  {
   "cell_type": "code",
   "execution_count": 9,
   "id": "d1ef3dd5",
   "metadata": {},
   "outputs": [
    {
     "name": "stderr",
     "output_type": "stream",
     "text": [
      "C:\\Users\\surya\\AppData\\Local\\Temp\\ipykernel_17536\\3728320835.py:1: FutureWarning: You are using `torch.load` with `weights_only=False` (the current default value), which uses the default pickle module implicitly. It is possible to construct malicious pickle data which will execute arbitrary code during unpickling (See https://github.com/pytorch/pytorch/blob/main/SECURITY.md#untrusted-models for more details). In a future release, the default value for `weights_only` will be flipped to `True`. This limits the functions that could be executed during unpickling. Arbitrary objects will no longer be allowed to be loaded via this mode unless they are explicitly allowlisted by the user via `torch.serialization.add_safe_globals`. We recommend you start setting `weights_only=True` for any use case where you don't have full control of the loaded file. Please open an issue on GitHub for any issues related to this experimental feature.\n",
      "  model.load_state_dict(torch.load(\"best_resnet_model.pth\"))\n"
     ]
    },
    {
     "name": "stdout",
     "output_type": "stream",
     "text": [
      "\n",
      "Classification Report:\n",
      "              precision    recall  f1-score   support\n",
      "\n",
      "           0       0.77      0.51      0.61       639\n",
      "           1       0.28      0.57      0.38       296\n",
      "           2       0.67      0.51      0.58       447\n",
      "           3       0.78      0.83      0.80       223\n",
      "           4       0.83      0.86      0.85        51\n",
      "\n",
      "    accuracy                           0.57      1656\n",
      "   macro avg       0.66      0.66      0.64      1656\n",
      "weighted avg       0.66      0.57      0.59      1656\n",
      "\n"
     ]
    }
   ],
   "source": [
    "model.load_state_dict(torch.load(\"best_resnet_model.pth\"))\n",
    "model.eval()\n",
    "y_true, y_pred = [], []\n",
    "with torch.no_grad():\n",
    "    for images, labels in test_loader:\n",
    "        images = images.to(device)\n",
    "        outputs = model(images)\n",
    "        preds = outputs.argmax(dim=1).cpu().numpy()\n",
    "        y_pred.extend(preds)\n",
    "        y_true.extend(labels.numpy())\n",
    "print(\"\\nClassification Report:\")\n",
    "print(classification_report(y_true, y_pred, target_names=class_names))\n"
   ]
  },
  {
   "cell_type": "markdown",
   "id": "4fb4266e",
   "metadata": {},
   "source": [
    "# 10. Confusion Matrix\n",
    "\n",
    "This cell plots a confusion matrix for the test set predictions, \n",
    "providing a visual summary of which classes are most often confused by the model.\n"
   ]
  },
  {
   "cell_type": "code",
   "execution_count": 10,
   "id": "ca5f7399",
   "metadata": {},
   "outputs": [
    {
     "data": {
      "image/png": "[encoded data removed]",
      "text/plain": [
       "<Figure size 600x500 with 2 Axes>"
      ]
     },
     "metadata": {},
     "output_type": "display_data"
    }
   ],
   "source": [
    "cm = confusion_matrix(y_true, y_pred)\n",
    "plt.figure(figsize=(6, 5))\n",
    "sns.heatmap(cm, annot=True, fmt='d', cmap='Blues',\n",
    "            xticklabels=class_names, yticklabels=class_names)\n",
    "plt.xlabel('Predicted')\n",
    "plt.ylabel('True')\n",
    "plt.title('Confusion Matrix')\n",
    "plt.show()\n"
   ]
  },
  {
   "cell_type": "markdown",
   "id": "ce28b81a",
   "metadata": {},
   "source": [
    "# 11. Test-Time Augmentation Prediction Function\n",
    "\n",
    "This function applies test-time augmentation (TTA) to an input image, \n",
    "averaging predictions across several augmented versions to increase prediction robustness.\n"
   ]
  },
  {
   "cell_type": "code",
   "execution_count": 11,
   "id": "cb0ab60f",
   "metadata": {},
   "outputs": [],
   "source": [
    "from PIL import Image\n",
    "import torch.nn.functional as F\n",
    "\n",
    "def predict_grade(model, image_path, class_names, transform, device):\n",
    "    model.eval()\n",
    "    image = Image.open(image_path).convert(\"RGB\")\n",
    "    image = transform(image).unsqueeze(0).to(device)\n",
    "    with torch.no_grad():\n",
    "        output = model(image)\n",
    "        probabilities = F.softmax(output, dim=1)\n",
    "        predicted_index = torch.argmax(probabilities, dim=1).item()\n",
    "        confidence = probabilities[0][predicted_index].item()\n",
    "    predicted_class = class_names[predicted_index]\n",
    "    print(f\"🔍 Predicted KL Grade: {predicted_class} (Confidence: {confidence:.2%})\")\n",
    "    return predicted_class, confidence\n"
   ]
  },
  {
   "cell_type": "markdown",
   "id": "51ecb701",
   "metadata": {},
   "source": [
    "# 12. Single Image Prediction Example\n",
    "\n",
    "This function demonstrates how to use the trained model to predict the KL grade for a single image, \n",
    "displaying the image and the predicted grade with confidence.\n"
   ]
  },
  {
   "cell_type": "code",
   "execution_count": 12,
   "id": "5dbb4269",
   "metadata": {},
   "outputs": [
    {
     "ename": "TypeError",
     "evalue": "predict_grade() missing 1 required positional argument: 'device'",
     "output_type": "error",
     "traceback": [
      "\u001b[1;31m---------------------------------------------------------------------------\u001b[0m",
      "\u001b[1;31mTypeError\u001b[0m                                 Traceback (most recent call last)",
      "Cell \u001b[1;32mIn[12], line 14\u001b[0m\n\u001b[0;32m      1\u001b[0m \u001b[38;5;66;03m# # Cell 12: Single Image Prediction Example\u001b[39;00m\n\u001b[0;32m      2\u001b[0m \u001b[38;5;66;03m# def predict_knee_grade(model, image_path, class_names, transform):\u001b[39;00m\n\u001b[0;32m      3\u001b[0m \u001b[38;5;66;03m#     image = Image.open(image_path).convert(\"RGB\")\u001b[39;00m\n\u001b[1;32m   (...)\u001b[0m\n\u001b[0;32m     12\u001b[0m \n\u001b[0;32m     13\u001b[0m \u001b[38;5;66;03m# # Example usage (uncomment and set your image path):\u001b[39;00m\n\u001b[1;32m---> 14\u001b[0m \u001b[43mpredict_grade\u001b[49m\u001b[43m(\u001b[49m\u001b[43mmodel\u001b[49m\u001b[43m,\u001b[49m\u001b[43m \u001b[49m\u001b[38;5;124;43m\"\u001b[39;49m\u001b[38;5;124;43mknee/val/1/9029913R.png\u001b[39;49m\u001b[38;5;124;43m\"\u001b[39;49m\u001b[43m,\u001b[49m\u001b[43m \u001b[49m\u001b[43mclass_names\u001b[49m\u001b[43m,\u001b[49m\u001b[43m \u001b[49m\u001b[43mval_transform\u001b[49m\u001b[43m)\u001b[49m\n",
      "\u001b[1;31mTypeError\u001b[0m: predict_grade() missing 1 required positional argument: 'device'"
     ]
    }
   ],
   "source": [
    "# # Cell 12: Single Image Prediction Example\n",
    "# def predict_knee_grade(model, image_path, class_names, transform):\n",
    "#     image = Image.open(image_path).convert(\"RGB\")\n",
    "#     predicted_class, confidence = test_time_augmentation(model, image, transform, num_augmentations=10)\n",
    "#     print(f\"🔍 Predicted KL Grade: {class_names[predicted_class]} (Confidence: {confidence:.2%})\")\n",
    "#     plt.figure(figsize=(6, 6))\n",
    "#     plt.imshow(image)\n",
    "#     plt.title(f\"Predicted: {class_names[predicted_class]} (Confidence: {confidence:.2%})\")\n",
    "#     plt.axis('off')\n",
    "#     plt.show()\n",
    "#     return predicted_class, confidence\n",
    "\n",
    "# # Example usage (uncomment and set your image path):\n",
    "predict_grade(model, \"knee/val/1/9029913R.png\", class_names, val_transform)\n"
   ]
  },
  {
   "cell_type": "markdown",
   "id": "0adc8af4",
   "metadata": {},
   "source": [
    "# 13. Batch Prediction on Directory\n",
    "\n",
    "This function loops through all images in a directory, \n",
    "predicting the KL grade for each and printing the results. \n",
    "It can be used to evaluate the model on a batch of new images.\n"
   ]
  },
  {
   "cell_type": "code",
   "execution_count": null,
   "id": "3ecd4fe2",
   "metadata": {},
   "outputs": [
    {
     "name": "stdout",
     "output_type": "stream",
     "text": [
      "Predicting 9000622L.png...\n",
      "🔍 Predicted KL Grade: 0 (Confidence: 47.34%)\n",
      "Predicting 9000622R.png...\n",
      "🔍 Predicted KL Grade: 1 (Confidence: 44.73%)\n",
      "Predicting 9001104L.png...\n",
      "🔍 Predicted KL Grade: 0 (Confidence: 51.41%)\n",
      "Predicting 9002316L.png...\n",
      "🔍 Predicted KL Grade: 1 (Confidence: 44.77%)\n",
      "Predicting 9002316R.png...\n",
      "🔍 Predicted KL Grade: 1 (Confidence: 48.87%)\n",
      "Predicting 9003430R.png...\n",
      "🔍 Predicted KL Grade: 1 (Confidence: 46.88%)\n",
      "Predicting 9004175L.png...\n",
      "🔍 Predicted KL Grade: 1 (Confidence: 40.64%)\n",
      "Predicting 9006723R.png...\n",
      "🔍 Predicted KL Grade: 0 (Confidence: 47.42%)\n",
      "Predicting 9008322R.png...\n",
      "🔍 Predicted KL Grade: 1 (Confidence: 45.57%)\n",
      "Predicting 9008561L.png...\n",
      "🔍 Predicted KL Grade: 1 (Confidence: 46.05%)\n",
      "Predicting 9008561R.png...\n",
      "🔍 Predicted KL Grade: 1 (Confidence: 46.57%)\n",
      "Predicting 9012435L.png...\n",
      "🔍 Predicted KL Grade: 0 (Confidence: 57.94%)\n",
      "Predicting 9012435R.png...\n",
      "🔍 Predicted KL Grade: 0 (Confidence: 49.55%)\n",
      "Predicting 9013634L.png...\n",
      "🔍 Predicted KL Grade: 1 (Confidence: 39.98%)\n",
      "Predicting 9013798R.png...\n",
      "🔍 Predicted KL Grade: 1 (Confidence: 47.16%)\n",
      "Predicting 9014797R.png...\n",
      "🔍 Predicted KL Grade: 0 (Confidence: 37.03%)\n",
      "Predicting 9016403L.png...\n",
      "🔍 Predicted KL Grade: 1 (Confidence: 48.29%)\n",
      "Predicting 9019287R.png...\n",
      "🔍 Predicted KL Grade: 0 (Confidence: 60.23%)\n",
      "Predicting 9022197R.png...\n",
      "🔍 Predicted KL Grade: 1 (Confidence: 41.14%)\n",
      "Predicting 9025257R.png...\n",
      "🔍 Predicted KL Grade: 1 (Confidence: 45.04%)\n",
      "Predicting 9025994R.png...\n",
      "🔍 Predicted KL Grade: 1 (Confidence: 45.88%)\n",
      "Predicting 9027189L.png...\n",
      "🔍 Predicted KL Grade: 0 (Confidence: 60.75%)\n",
      "Predicting 9027189R.png...\n",
      "🔍 Predicted KL Grade: 0 (Confidence: 54.47%)\n",
      "Predicting 9029415R.png...\n",
      "🔍 Predicted KL Grade: 0 (Confidence: 49.30%)\n",
      "Predicting 9029791R.png...\n",
      "🔍 Predicted KL Grade: 0 (Confidence: 55.87%)\n",
      "Predicting 9031930R.png...\n",
      "🔍 Predicted KL Grade: 1 (Confidence: 44.17%)\n",
      "Predicting 9034644R.png...\n",
      "🔍 Predicted KL Grade: 0 (Confidence: 53.63%)\n",
      "Predicting 9036316L.png...\n",
      "🔍 Predicted KL Grade: 0 (Confidence: 40.23%)\n",
      "Predicting 9036316R.png...\n",
      "🔍 Predicted KL Grade: 1 (Confidence: 40.42%)\n",
      "Predicting 9036771L.png...\n",
      "🔍 Predicted KL Grade: 0 (Confidence: 51.89%)\n",
      "Predicting 9038962L.png...\n",
      "🔍 Predicted KL Grade: 1 (Confidence: 46.68%)\n",
      "Predicting 9039627R.png...\n",
      "🔍 Predicted KL Grade: 1 (Confidence: 46.02%)\n",
      "Predicting 9040456R.png...\n",
      "🔍 Predicted KL Grade: 0 (Confidence: 50.70%)\n",
      "Predicting 9040958R.png...\n",
      "🔍 Predicted KL Grade: 1 (Confidence: 50.66%)\n",
      "Predicting 9041458L.png...\n",
      "🔍 Predicted KL Grade: 0 (Confidence: 54.33%)\n",
      "Predicting 9041458R.png...\n",
      "🔍 Predicted KL Grade: 0 (Confidence: 49.83%)\n",
      "Predicting 9042892L.png...\n",
      "🔍 Predicted KL Grade: 1 (Confidence: 45.81%)\n",
      "Predicting 9042892R.png...\n",
      "🔍 Predicted KL Grade: 1 (Confidence: 46.36%)\n",
      "Predicting 9043894L.png...\n",
      "🔍 Predicted KL Grade: 0 (Confidence: 56.53%)\n",
      "Predicting 9044788L.png...\n",
      "🔍 Predicted KL Grade: 0 (Confidence: 63.56%)\n",
      "Predicting 9046012R.png...\n",
      "🔍 Predicted KL Grade: 1 (Confidence: 46.87%)\n",
      "Predicting 9049895L.png...\n",
      "🔍 Predicted KL Grade: 1 (Confidence: 49.46%)\n",
      "Predicting 9050299L.png...\n",
      "🔍 Predicted KL Grade: 0 (Confidence: 54.19%)\n",
      "Predicting 9050966L.png...\n",
      "🔍 Predicted KL Grade: 0 (Confidence: 65.98%)\n",
      "Predicting 9050966R.png...\n",
      "🔍 Predicted KL Grade: 0 (Confidence: 68.97%)\n",
      "Predicting 9052978R.png...\n",
      "🔍 Predicted KL Grade: 1 (Confidence: 47.90%)\n",
      "Predicting 9054866R.png...\n",
      "🔍 Predicted KL Grade: 1 (Confidence: 40.76%)\n",
      "Predicting 9055429L.png...\n",
      "🔍 Predicted KL Grade: 1 (Confidence: 43.70%)\n",
      "Predicting 9057150R.png...\n",
      "🔍 Predicted KL Grade: 1 (Confidence: 42.57%)\n",
      "Predicting 9057479L.png...\n",
      "🔍 Predicted KL Grade: 1 (Confidence: 47.21%)\n",
      "Predicting 9057479R.png...\n",
      "🔍 Predicted KL Grade: 0 (Confidence: 50.75%)\n",
      "Predicting 9058469R.png...\n",
      "🔍 Predicted KL Grade: 0 (Confidence: 55.58%)\n",
      "Predicting 9059339L.png...\n",
      "🔍 Predicted KL Grade: 0 (Confidence: 64.61%)\n",
      "Predicting 9061666R.png...\n",
      "🔍 Predicted KL Grade: 2 (Confidence: 39.02%)\n",
      "Predicting 9061827R.png...\n",
      "🔍 Predicted KL Grade: 1 (Confidence: 40.42%)\n",
      "Predicting 9062483L.png...\n",
      "🔍 Predicted KL Grade: 0 (Confidence: 56.47%)\n",
      "Predicting 9062688R.png...\n",
      "🔍 Predicted KL Grade: 0 (Confidence: 49.47%)\n",
      "Predicting 9063928L.png...\n",
      "🔍 Predicted KL Grade: 1 (Confidence: 47.38%)\n",
      "Predicting 9064631L.png...\n",
      "🔍 Predicted KL Grade: 0 (Confidence: 46.52%)\n",
      "Predicting 9065820R.png...\n",
      "🔍 Predicted KL Grade: 0 (Confidence: 42.19%)\n",
      "Predicting 9068742L.png...\n",
      "🔍 Predicted KL Grade: 0 (Confidence: 63.77%)\n",
      "Predicting 9068742R.png...\n",
      "🔍 Predicted KL Grade: 0 (Confidence: 61.82%)\n",
      "Predicting 9071781L.png...\n",
      "🔍 Predicted KL Grade: 1 (Confidence: 40.72%)\n",
      "Predicting 9072281L.png...\n",
      "🔍 Predicted KL Grade: 1 (Confidence: 48.21%)\n",
      "Predicting 9072646R.png...\n",
      "🔍 Predicted KL Grade: 1 (Confidence: 47.46%)\n",
      "Predicting 9076127L.png...\n",
      "🔍 Predicted KL Grade: 0 (Confidence: 46.09%)\n",
      "Predicting 9076127R.png...\n",
      "🔍 Predicted KL Grade: 2 (Confidence: 34.92%)\n",
      "Predicting 9076879L.png...\n",
      "🔍 Predicted KL Grade: 0 (Confidence: 43.54%)\n",
      "Predicting 9081635L.png...\n",
      "🔍 Predicted KL Grade: 1 (Confidence: 39.30%)\n",
      "Predicting 9081635R.png...\n",
      "🔍 Predicted KL Grade: 1 (Confidence: 40.81%)\n",
      "Predicting 9082901L.png...\n",
      "🔍 Predicted KL Grade: 0 (Confidence: 47.35%)\n",
      "Predicting 9083113L.png...\n",
      "🔍 Predicted KL Grade: 1 (Confidence: 49.49%)\n",
      "Predicting 9084244R.png...\n",
      "🔍 Predicted KL Grade: 1 (Confidence: 43.03%)\n",
      "Predicting 9085290R.png...\n",
      "🔍 Predicted KL Grade: 1 (Confidence: 49.19%)\n",
      "Predicting 9085892L.png...\n",
      "🔍 Predicted KL Grade: 1 (Confidence: 42.26%)\n",
      "Predicting 9087863L.png...\n",
      "🔍 Predicted KL Grade: 2 (Confidence: 41.63%)\n",
      "Predicting 9088142L.png...\n",
      "🔍 Predicted KL Grade: 1 (Confidence: 46.32%)\n",
      "Predicting 9088142R.png...\n",
      "🔍 Predicted KL Grade: 1 (Confidence: 41.48%)\n",
      "Predicting 9090740R.png...\n",
      "🔍 Predicted KL Grade: 1 (Confidence: 45.89%)\n",
      "Predicting 9092247L.png...\n",
      "🔍 Predicted KL Grade: 1 (Confidence: 46.96%)\n",
      "Predicting 9092247R.png...\n",
      "🔍 Predicted KL Grade: 1 (Confidence: 49.27%)\n",
      "Predicting 9094841L.png...\n",
      "🔍 Predicted KL Grade: 0 (Confidence: 52.26%)\n",
      "Predicting 9095103R.png...\n",
      "🔍 Predicted KL Grade: 1 (Confidence: 40.00%)\n",
      "Predicting 9096851R.png...\n",
      "🔍 Predicted KL Grade: 0 (Confidence: 45.97%)\n",
      "Predicting 9101270L.png...\n",
      "🔍 Predicted KL Grade: 1 (Confidence: 43.24%)\n",
      "Predicting 9101951L.png...\n",
      "🔍 Predicted KL Grade: 1 (Confidence: 45.72%)\n",
      "Predicting 9101951R.png...\n",
      "🔍 Predicted KL Grade: 1 (Confidence: 45.86%)\n",
      "Predicting 9102297L.png...\n",
      "🔍 Predicted KL Grade: 1 (Confidence: 47.39%)\n",
      "Predicting 9102297R.png...\n",
      "🔍 Predicted KL Grade: 1 (Confidence: 47.75%)\n",
      "Predicting 9103449L.png...\n",
      "🔍 Predicted KL Grade: 0 (Confidence: 47.34%)\n",
      "Predicting 9104043L.png...\n",
      "🔍 Predicted KL Grade: 1 (Confidence: 46.71%)\n",
      "Predicting 9106688R.png...\n",
      "🔍 Predicted KL Grade: 1 (Confidence: 40.30%)\n",
      "Predicting 9108945R.png...\n",
      "🔍 Predicted KL Grade: 2 (Confidence: 51.91%)\n",
      "Predicting 9113674L.png...\n",
      "🔍 Predicted KL Grade: 0 (Confidence: 49.12%)\n",
      "Predicting 9113674R.png...\n",
      "🔍 Predicted KL Grade: 0 (Confidence: 56.03%)\n",
      "Predicting 9113782L.png...\n",
      "🔍 Predicted KL Grade: 0 (Confidence: 47.93%)\n",
      "Predicting 9113782R.png...\n",
      "🔍 Predicted KL Grade: 1 (Confidence: 41.23%)\n",
      "Predicting 9115525L.png...\n",
      "🔍 Predicted KL Grade: 1 (Confidence: 43.89%)\n",
      "Predicting 9116057L.png...\n",
      "🔍 Predicted KL Grade: 0 (Confidence: 44.95%)\n",
      "Predicting 9116057R.png...\n",
      "🔍 Predicted KL Grade: 1 (Confidence: 43.58%)\n",
      "Predicting 9120358L.png...\n",
      "🔍 Predicted KL Grade: 0 (Confidence: 50.78%)\n",
      "Predicting 9120519L.png...\n",
      "🔍 Predicted KL Grade: 0 (Confidence: 69.88%)\n",
      "Predicting 9120519R.png...\n",
      "🔍 Predicted KL Grade: 0 (Confidence: 54.21%)\n",
      "Predicting 9121285R.png...\n",
      "🔍 Predicted KL Grade: 0 (Confidence: 44.70%)\n",
      "Predicting 9124024L.png...\n",
      "🔍 Predicted KL Grade: 1 (Confidence: 45.87%)\n",
      "Predicting 9131496L.png...\n",
      "🔍 Predicted KL Grade: 1 (Confidence: 42.59%)\n",
      "Predicting 9131496R.png...\n",
      "🔍 Predicted KL Grade: 1 (Confidence: 44.41%)\n",
      "Predicting 9133464L.png...\n",
      "🔍 Predicted KL Grade: 1 (Confidence: 46.92%)\n",
      "Predicting 9133464R.png...\n",
      "🔍 Predicted KL Grade: 1 (Confidence: 51.88%)\n",
      "Predicting 9134955R.png...\n",
      "🔍 Predicted KL Grade: 2 (Confidence: 62.72%)\n",
      "Predicting 9135752L.png...\n",
      "🔍 Predicted KL Grade: 0 (Confidence: 48.69%)\n",
      "Predicting 9137556L.png...\n",
      "🔍 Predicted KL Grade: 1 (Confidence: 48.52%)\n",
      "Predicting 9137556R.png...\n",
      "🔍 Predicted KL Grade: 1 (Confidence: 49.32%)\n",
      "Predicting 9138467L.png...\n",
      "🔍 Predicted KL Grade: 0 (Confidence: 54.51%)\n",
      "Predicting 9138467R.png...\n"
     ]
    },
    {
     "ename": "KeyboardInterrupt",
     "evalue": "",
     "output_type": "error",
     "traceback": [
      "\u001b[1;31m---------------------------------------------------------------------------\u001b[0m",
      "\u001b[1;31mKeyboardInterrupt\u001b[0m                         Traceback (most recent call last)",
      "Cell \u001b[1;32mIn[23], line 21\u001b[0m\n\u001b[0;32m     18\u001b[0m     \u001b[38;5;28;01mreturn\u001b[39;00m results_df\n\u001b[0;32m     20\u001b[0m \u001b[38;5;66;03m# Example usage (uncomment to run):\u001b[39;00m\n\u001b[1;32m---> 21\u001b[0m results_df \u001b[38;5;241m=\u001b[39m \u001b[43mpredict_directory\u001b[49m\u001b[43m(\u001b[49m\u001b[43mmodel\u001b[49m\u001b[43m,\u001b[49m\u001b[43m \u001b[49m\u001b[38;5;124;43m\"\u001b[39;49m\u001b[38;5;124;43mknee/train/1\u001b[39;49m\u001b[38;5;124;43m\"\u001b[39;49m\u001b[43m,\u001b[49m\u001b[43m \u001b[49m\u001b[43mclass_names\u001b[49m\u001b[43m,\u001b[49m\u001b[43m \u001b[49m\u001b[43mval_transform\u001b[49m\u001b[43m)\u001b[49m\n\u001b[0;32m     22\u001b[0m \u001b[38;5;66;03m# results_df.to_csv(\"prediction_results.csv\", index=False)\u001b[39;00m\n",
      "Cell \u001b[1;32mIn[23], line 9\u001b[0m, in \u001b[0;36mpredict_directory\u001b[1;34m(model, directory_path, class_names, transform)\u001b[0m\n\u001b[0;32m      7\u001b[0m \u001b[38;5;28mprint\u001b[39m(\u001b[38;5;124mf\u001b[39m\u001b[38;5;124m\"\u001b[39m\u001b[38;5;124mPredicting \u001b[39m\u001b[38;5;132;01m{\u001b[39;00mfilename\u001b[38;5;132;01m}\u001b[39;00m\u001b[38;5;124m...\u001b[39m\u001b[38;5;124m\"\u001b[39m)\n\u001b[0;32m      8\u001b[0m image \u001b[38;5;241m=\u001b[39m Image\u001b[38;5;241m.\u001b[39mopen(image_path)\u001b[38;5;241m.\u001b[39mconvert(\u001b[38;5;124m\"\u001b[39m\u001b[38;5;124mRGB\u001b[39m\u001b[38;5;124m\"\u001b[39m)\n\u001b[1;32m----> 9\u001b[0m predicted_class, confidence \u001b[38;5;241m=\u001b[39m \u001b[43mtest_time_augmentation\u001b[49m\u001b[43m(\u001b[49m\u001b[43mmodel\u001b[49m\u001b[43m,\u001b[49m\u001b[43m \u001b[49m\u001b[43mimage\u001b[49m\u001b[43m,\u001b[49m\u001b[43m \u001b[49m\u001b[43mtransform\u001b[49m\u001b[43m)\u001b[49m\n\u001b[0;32m     10\u001b[0m \u001b[38;5;28mprint\u001b[39m(\u001b[38;5;124mf\u001b[39m\u001b[38;5;124m\"\u001b[39m\u001b[38;5;124m🔍 Predicted KL Grade: \u001b[39m\u001b[38;5;132;01m{\u001b[39;00mclass_names[predicted_class]\u001b[38;5;132;01m}\u001b[39;00m\u001b[38;5;124m (Confidence: \u001b[39m\u001b[38;5;132;01m{\u001b[39;00mconfidence\u001b[38;5;132;01m:\u001b[39;00m\u001b[38;5;124m.2%\u001b[39m\u001b[38;5;132;01m}\u001b[39;00m\u001b[38;5;124m)\u001b[39m\u001b[38;5;124m\"\u001b[39m)\n\u001b[0;32m     11\u001b[0m results\u001b[38;5;241m.\u001b[39mappend({\n\u001b[0;32m     12\u001b[0m     \u001b[38;5;124m\"\u001b[39m\u001b[38;5;124mfilename\u001b[39m\u001b[38;5;124m\"\u001b[39m: filename,\n\u001b[0;32m     13\u001b[0m     \u001b[38;5;124m\"\u001b[39m\u001b[38;5;124mpredicted_class\u001b[39m\u001b[38;5;124m\"\u001b[39m: predicted_class,\n\u001b[0;32m     14\u001b[0m     \u001b[38;5;124m\"\u001b[39m\u001b[38;5;124mpredicted_label\u001b[39m\u001b[38;5;124m\"\u001b[39m: class_names[predicted_class],\n\u001b[0;32m     15\u001b[0m     \u001b[38;5;124m\"\u001b[39m\u001b[38;5;124mconfidence\u001b[39m\u001b[38;5;124m\"\u001b[39m: confidence\n\u001b[0;32m     16\u001b[0m })\n",
      "Cell \u001b[1;32mIn[18], line 23\u001b[0m, in \u001b[0;36mtest_time_augmentation\u001b[1;34m(model, image, transform, num_augmentations)\u001b[0m\n\u001b[0;32m     21\u001b[0m all_images \u001b[38;5;241m=\u001b[39m torch\u001b[38;5;241m.\u001b[39mcat(augmentations)\u001b[38;5;241m.\u001b[39mto(device)\n\u001b[0;32m     22\u001b[0m \u001b[38;5;28;01mwith\u001b[39;00m torch\u001b[38;5;241m.\u001b[39mno_grad():\n\u001b[1;32m---> 23\u001b[0m     outputs \u001b[38;5;241m=\u001b[39m \u001b[43mmodel\u001b[49m\u001b[43m(\u001b[49m\u001b[43mall_images\u001b[49m\u001b[43m)\u001b[49m\n\u001b[0;32m     24\u001b[0m     probabilities \u001b[38;5;241m=\u001b[39m F\u001b[38;5;241m.\u001b[39msoftmax(outputs, dim\u001b[38;5;241m=\u001b[39m\u001b[38;5;241m1\u001b[39m)\n\u001b[0;32m     25\u001b[0m avg_probabilities \u001b[38;5;241m=\u001b[39m probabilities\u001b[38;5;241m.\u001b[39mmean(dim\u001b[38;5;241m=\u001b[39m\u001b[38;5;241m0\u001b[39m)\n",
      "File \u001b[1;32mc:\\uni\\idp\\.venv\\Lib\\site-packages\\torch\\nn\\modules\\module.py:1736\u001b[0m, in \u001b[0;36mModule._wrapped_call_impl\u001b[1;34m(self, *args, **kwargs)\u001b[0m\n\u001b[0;32m   1734\u001b[0m     \u001b[38;5;28;01mreturn\u001b[39;00m \u001b[38;5;28mself\u001b[39m\u001b[38;5;241m.\u001b[39m_compiled_call_impl(\u001b[38;5;241m*\u001b[39margs, \u001b[38;5;241m*\u001b[39m\u001b[38;5;241m*\u001b[39mkwargs)  \u001b[38;5;66;03m# type: ignore[misc]\u001b[39;00m\n\u001b[0;32m   1735\u001b[0m \u001b[38;5;28;01melse\u001b[39;00m:\n\u001b[1;32m-> 1736\u001b[0m     \u001b[38;5;28;01mreturn\u001b[39;00m \u001b[38;5;28;43mself\u001b[39;49m\u001b[38;5;241;43m.\u001b[39;49m\u001b[43m_call_impl\u001b[49m\u001b[43m(\u001b[49m\u001b[38;5;241;43m*\u001b[39;49m\u001b[43margs\u001b[49m\u001b[43m,\u001b[49m\u001b[43m \u001b[49m\u001b[38;5;241;43m*\u001b[39;49m\u001b[38;5;241;43m*\u001b[39;49m\u001b[43mkwargs\u001b[49m\u001b[43m)\u001b[49m\n",
      "File \u001b[1;32mc:\\uni\\idp\\.venv\\Lib\\site-packages\\torch\\nn\\modules\\module.py:1747\u001b[0m, in \u001b[0;36mModule._call_impl\u001b[1;34m(self, *args, **kwargs)\u001b[0m\n\u001b[0;32m   1742\u001b[0m \u001b[38;5;66;03m# If we don't have any hooks, we want to skip the rest of the logic in\u001b[39;00m\n\u001b[0;32m   1743\u001b[0m \u001b[38;5;66;03m# this function, and just call forward.\u001b[39;00m\n\u001b[0;32m   1744\u001b[0m \u001b[38;5;28;01mif\u001b[39;00m \u001b[38;5;129;01mnot\u001b[39;00m (\u001b[38;5;28mself\u001b[39m\u001b[38;5;241m.\u001b[39m_backward_hooks \u001b[38;5;129;01mor\u001b[39;00m \u001b[38;5;28mself\u001b[39m\u001b[38;5;241m.\u001b[39m_backward_pre_hooks \u001b[38;5;129;01mor\u001b[39;00m \u001b[38;5;28mself\u001b[39m\u001b[38;5;241m.\u001b[39m_forward_hooks \u001b[38;5;129;01mor\u001b[39;00m \u001b[38;5;28mself\u001b[39m\u001b[38;5;241m.\u001b[39m_forward_pre_hooks\n\u001b[0;32m   1745\u001b[0m         \u001b[38;5;129;01mor\u001b[39;00m _global_backward_pre_hooks \u001b[38;5;129;01mor\u001b[39;00m _global_backward_hooks\n\u001b[0;32m   1746\u001b[0m         \u001b[38;5;129;01mor\u001b[39;00m _global_forward_hooks \u001b[38;5;129;01mor\u001b[39;00m _global_forward_pre_hooks):\n\u001b[1;32m-> 1747\u001b[0m     \u001b[38;5;28;01mreturn\u001b[39;00m \u001b[43mforward_call\u001b[49m\u001b[43m(\u001b[49m\u001b[38;5;241;43m*\u001b[39;49m\u001b[43margs\u001b[49m\u001b[43m,\u001b[49m\u001b[43m \u001b[49m\u001b[38;5;241;43m*\u001b[39;49m\u001b[38;5;241;43m*\u001b[39;49m\u001b[43mkwargs\u001b[49m\u001b[43m)\u001b[49m\n\u001b[0;32m   1749\u001b[0m result \u001b[38;5;241m=\u001b[39m \u001b[38;5;28;01mNone\u001b[39;00m\n\u001b[0;32m   1750\u001b[0m called_always_called_hooks \u001b[38;5;241m=\u001b[39m \u001b[38;5;28mset\u001b[39m()\n",
      "Cell \u001b[1;32mIn[4], line 20\u001b[0m, in \u001b[0;36mImprovedKLClassifier.forward\u001b[1;34m(self, x)\u001b[0m\n\u001b[0;32m     19\u001b[0m \u001b[38;5;28;01mdef\u001b[39;00m\u001b[38;5;250m \u001b[39m\u001b[38;5;21mforward\u001b[39m(\u001b[38;5;28mself\u001b[39m, x):\n\u001b[1;32m---> 20\u001b[0m     x \u001b[38;5;241m=\u001b[39m \u001b[38;5;28;43mself\u001b[39;49m\u001b[38;5;241;43m.\u001b[39;49m\u001b[43mbackbone\u001b[49m\u001b[43m(\u001b[49m\u001b[43mx\u001b[49m\u001b[43m)\u001b[49m\n\u001b[0;32m     21\u001b[0m     x \u001b[38;5;241m=\u001b[39m \u001b[38;5;28mself\u001b[39m\u001b[38;5;241m.\u001b[39mclassifier(x)\n\u001b[0;32m     22\u001b[0m     \u001b[38;5;28;01mreturn\u001b[39;00m x\n",
      "File \u001b[1;32mc:\\uni\\idp\\.venv\\Lib\\site-packages\\torch\\nn\\modules\\module.py:1736\u001b[0m, in \u001b[0;36mModule._wrapped_call_impl\u001b[1;34m(self, *args, **kwargs)\u001b[0m\n\u001b[0;32m   1734\u001b[0m     \u001b[38;5;28;01mreturn\u001b[39;00m \u001b[38;5;28mself\u001b[39m\u001b[38;5;241m.\u001b[39m_compiled_call_impl(\u001b[38;5;241m*\u001b[39margs, \u001b[38;5;241m*\u001b[39m\u001b[38;5;241m*\u001b[39mkwargs)  \u001b[38;5;66;03m# type: ignore[misc]\u001b[39;00m\n\u001b[0;32m   1735\u001b[0m \u001b[38;5;28;01melse\u001b[39;00m:\n\u001b[1;32m-> 1736\u001b[0m     \u001b[38;5;28;01mreturn\u001b[39;00m \u001b[38;5;28;43mself\u001b[39;49m\u001b[38;5;241;43m.\u001b[39;49m\u001b[43m_call_impl\u001b[49m\u001b[43m(\u001b[49m\u001b[38;5;241;43m*\u001b[39;49m\u001b[43margs\u001b[49m\u001b[43m,\u001b[49m\u001b[43m \u001b[49m\u001b[38;5;241;43m*\u001b[39;49m\u001b[38;5;241;43m*\u001b[39;49m\u001b[43mkwargs\u001b[49m\u001b[43m)\u001b[49m\n",
      "File \u001b[1;32mc:\\uni\\idp\\.venv\\Lib\\site-packages\\torch\\nn\\modules\\module.py:1747\u001b[0m, in \u001b[0;36mModule._call_impl\u001b[1;34m(self, *args, **kwargs)\u001b[0m\n\u001b[0;32m   1742\u001b[0m \u001b[38;5;66;03m# If we don't have any hooks, we want to skip the rest of the logic in\u001b[39;00m\n\u001b[0;32m   1743\u001b[0m \u001b[38;5;66;03m# this function, and just call forward.\u001b[39;00m\n\u001b[0;32m   1744\u001b[0m \u001b[38;5;28;01mif\u001b[39;00m \u001b[38;5;129;01mnot\u001b[39;00m (\u001b[38;5;28mself\u001b[39m\u001b[38;5;241m.\u001b[39m_backward_hooks \u001b[38;5;129;01mor\u001b[39;00m \u001b[38;5;28mself\u001b[39m\u001b[38;5;241m.\u001b[39m_backward_pre_hooks \u001b[38;5;129;01mor\u001b[39;00m \u001b[38;5;28mself\u001b[39m\u001b[38;5;241m.\u001b[39m_forward_hooks \u001b[38;5;129;01mor\u001b[39;00m \u001b[38;5;28mself\u001b[39m\u001b[38;5;241m.\u001b[39m_forward_pre_hooks\n\u001b[0;32m   1745\u001b[0m         \u001b[38;5;129;01mor\u001b[39;00m _global_backward_pre_hooks \u001b[38;5;129;01mor\u001b[39;00m _global_backward_hooks\n\u001b[0;32m   1746\u001b[0m         \u001b[38;5;129;01mor\u001b[39;00m _global_forward_hooks \u001b[38;5;129;01mor\u001b[39;00m _global_forward_pre_hooks):\n\u001b[1;32m-> 1747\u001b[0m     \u001b[38;5;28;01mreturn\u001b[39;00m \u001b[43mforward_call\u001b[49m\u001b[43m(\u001b[49m\u001b[38;5;241;43m*\u001b[39;49m\u001b[43margs\u001b[49m\u001b[43m,\u001b[49m\u001b[43m \u001b[49m\u001b[38;5;241;43m*\u001b[39;49m\u001b[38;5;241;43m*\u001b[39;49m\u001b[43mkwargs\u001b[49m\u001b[43m)\u001b[49m\n\u001b[0;32m   1749\u001b[0m result \u001b[38;5;241m=\u001b[39m \u001b[38;5;28;01mNone\u001b[39;00m\n\u001b[0;32m   1750\u001b[0m called_always_called_hooks \u001b[38;5;241m=\u001b[39m \u001b[38;5;28mset\u001b[39m()\n",
      "File \u001b[1;32mc:\\uni\\idp\\.venv\\Lib\\site-packages\\torch\\nn\\modules\\container.py:250\u001b[0m, in \u001b[0;36mSequential.forward\u001b[1;34m(self, input)\u001b[0m\n\u001b[0;32m    248\u001b[0m \u001b[38;5;28;01mdef\u001b[39;00m\u001b[38;5;250m \u001b[39m\u001b[38;5;21mforward\u001b[39m(\u001b[38;5;28mself\u001b[39m, \u001b[38;5;28minput\u001b[39m):\n\u001b[0;32m    249\u001b[0m     \u001b[38;5;28;01mfor\u001b[39;00m module \u001b[38;5;129;01min\u001b[39;00m \u001b[38;5;28mself\u001b[39m:\n\u001b[1;32m--> 250\u001b[0m         \u001b[38;5;28minput\u001b[39m \u001b[38;5;241m=\u001b[39m \u001b[43mmodule\u001b[49m\u001b[43m(\u001b[49m\u001b[38;5;28;43minput\u001b[39;49m\u001b[43m)\u001b[49m\n\u001b[0;32m    251\u001b[0m     \u001b[38;5;28;01mreturn\u001b[39;00m \u001b[38;5;28minput\u001b[39m\n",
      "File \u001b[1;32mc:\\uni\\idp\\.venv\\Lib\\site-packages\\torch\\nn\\modules\\module.py:1736\u001b[0m, in \u001b[0;36mModule._wrapped_call_impl\u001b[1;34m(self, *args, **kwargs)\u001b[0m\n\u001b[0;32m   1734\u001b[0m     \u001b[38;5;28;01mreturn\u001b[39;00m \u001b[38;5;28mself\u001b[39m\u001b[38;5;241m.\u001b[39m_compiled_call_impl(\u001b[38;5;241m*\u001b[39margs, \u001b[38;5;241m*\u001b[39m\u001b[38;5;241m*\u001b[39mkwargs)  \u001b[38;5;66;03m# type: ignore[misc]\u001b[39;00m\n\u001b[0;32m   1735\u001b[0m \u001b[38;5;28;01melse\u001b[39;00m:\n\u001b[1;32m-> 1736\u001b[0m     \u001b[38;5;28;01mreturn\u001b[39;00m \u001b[38;5;28;43mself\u001b[39;49m\u001b[38;5;241;43m.\u001b[39;49m\u001b[43m_call_impl\u001b[49m\u001b[43m(\u001b[49m\u001b[38;5;241;43m*\u001b[39;49m\u001b[43margs\u001b[49m\u001b[43m,\u001b[49m\u001b[43m \u001b[49m\u001b[38;5;241;43m*\u001b[39;49m\u001b[38;5;241;43m*\u001b[39;49m\u001b[43mkwargs\u001b[49m\u001b[43m)\u001b[49m\n",
      "File \u001b[1;32mc:\\uni\\idp\\.venv\\Lib\\site-packages\\torch\\nn\\modules\\module.py:1747\u001b[0m, in \u001b[0;36mModule._call_impl\u001b[1;34m(self, *args, **kwargs)\u001b[0m\n\u001b[0;32m   1742\u001b[0m \u001b[38;5;66;03m# If we don't have any hooks, we want to skip the rest of the logic in\u001b[39;00m\n\u001b[0;32m   1743\u001b[0m \u001b[38;5;66;03m# this function, and just call forward.\u001b[39;00m\n\u001b[0;32m   1744\u001b[0m \u001b[38;5;28;01mif\u001b[39;00m \u001b[38;5;129;01mnot\u001b[39;00m (\u001b[38;5;28mself\u001b[39m\u001b[38;5;241m.\u001b[39m_backward_hooks \u001b[38;5;129;01mor\u001b[39;00m \u001b[38;5;28mself\u001b[39m\u001b[38;5;241m.\u001b[39m_backward_pre_hooks \u001b[38;5;129;01mor\u001b[39;00m \u001b[38;5;28mself\u001b[39m\u001b[38;5;241m.\u001b[39m_forward_hooks \u001b[38;5;129;01mor\u001b[39;00m \u001b[38;5;28mself\u001b[39m\u001b[38;5;241m.\u001b[39m_forward_pre_hooks\n\u001b[0;32m   1745\u001b[0m         \u001b[38;5;129;01mor\u001b[39;00m _global_backward_pre_hooks \u001b[38;5;129;01mor\u001b[39;00m _global_backward_hooks\n\u001b[0;32m   1746\u001b[0m         \u001b[38;5;129;01mor\u001b[39;00m _global_forward_hooks \u001b[38;5;129;01mor\u001b[39;00m _global_forward_pre_hooks):\n\u001b[1;32m-> 1747\u001b[0m     \u001b[38;5;28;01mreturn\u001b[39;00m \u001b[43mforward_call\u001b[49m\u001b[43m(\u001b[49m\u001b[38;5;241;43m*\u001b[39;49m\u001b[43margs\u001b[49m\u001b[43m,\u001b[49m\u001b[43m \u001b[49m\u001b[38;5;241;43m*\u001b[39;49m\u001b[38;5;241;43m*\u001b[39;49m\u001b[43mkwargs\u001b[49m\u001b[43m)\u001b[49m\n\u001b[0;32m   1749\u001b[0m result \u001b[38;5;241m=\u001b[39m \u001b[38;5;28;01mNone\u001b[39;00m\n\u001b[0;32m   1750\u001b[0m called_always_called_hooks \u001b[38;5;241m=\u001b[39m \u001b[38;5;28mset\u001b[39m()\n",
      "File \u001b[1;32mc:\\uni\\idp\\.venv\\Lib\\site-packages\\torch\\nn\\modules\\pooling.py:1455\u001b[0m, in \u001b[0;36mAdaptiveAvgPool2d.forward\u001b[1;34m(self, input)\u001b[0m\n\u001b[0;32m   1454\u001b[0m \u001b[38;5;28;01mdef\u001b[39;00m\u001b[38;5;250m \u001b[39m\u001b[38;5;21mforward\u001b[39m(\u001b[38;5;28mself\u001b[39m, \u001b[38;5;28minput\u001b[39m: Tensor) \u001b[38;5;241m-\u001b[39m\u001b[38;5;241m>\u001b[39m Tensor:\n\u001b[1;32m-> 1455\u001b[0m     \u001b[38;5;28;01mreturn\u001b[39;00m \u001b[43mF\u001b[49m\u001b[38;5;241;43m.\u001b[39;49m\u001b[43madaptive_avg_pool2d\u001b[49m\u001b[43m(\u001b[49m\u001b[38;5;28;43minput\u001b[39;49m\u001b[43m,\u001b[49m\u001b[43m \u001b[49m\u001b[38;5;28;43mself\u001b[39;49m\u001b[38;5;241;43m.\u001b[39;49m\u001b[43moutput_size\u001b[49m\u001b[43m)\u001b[49m\n",
      "File \u001b[1;32mc:\\uni\\idp\\.venv\\Lib\\site-packages\\torch\\nn\\functional.py:1382\u001b[0m, in \u001b[0;36madaptive_avg_pool2d\u001b[1;34m(input, output_size)\u001b[0m\n\u001b[0;32m   1380\u001b[0m     \u001b[38;5;28;01mreturn\u001b[39;00m handle_torch_function(adaptive_avg_pool2d, (\u001b[38;5;28minput\u001b[39m,), \u001b[38;5;28minput\u001b[39m, output_size)\n\u001b[0;32m   1381\u001b[0m _output_size \u001b[38;5;241m=\u001b[39m _list_with_default(output_size, \u001b[38;5;28minput\u001b[39m\u001b[38;5;241m.\u001b[39msize())\n\u001b[1;32m-> 1382\u001b[0m \u001b[38;5;28;01mreturn\u001b[39;00m \u001b[43mtorch\u001b[49m\u001b[38;5;241;43m.\u001b[39;49m\u001b[43m_C\u001b[49m\u001b[38;5;241;43m.\u001b[39;49m\u001b[43m_nn\u001b[49m\u001b[38;5;241;43m.\u001b[39;49m\u001b[43madaptive_avg_pool2d\u001b[49m\u001b[43m(\u001b[49m\u001b[38;5;28;43minput\u001b[39;49m\u001b[43m,\u001b[49m\u001b[43m \u001b[49m\u001b[43m_output_size\u001b[49m\u001b[43m)\u001b[49m\n",
      "\u001b[1;31mKeyboardInterrupt\u001b[0m: "
     ]
    }
   ],
   "source": [
    "# # Cell 13: Batch Prediction on Directory\n",
    "# def predict_directory(model, directory_path, class_names, transform):\n",
    "#     results = []\n",
    "#     for filename in os.listdir(directory_path):\n",
    "#         if filename.endswith(\".png\") or filename.endswith(\".jpg\"):\n",
    "#             image_path = os.path.join(directory_path, filename)\n",
    "#             print(f\"Predicting {filename}...\")\n",
    "#             image = Image.open(image_path).convert(\"RGB\")\n",
    "#             predicted_class, confidence = test_time_augmentation(model, image, transform)\n",
    "#             print(f\"🔍 Predicted KL Grade: {class_names[predicted_class]} (Confidence: {confidence:.2%})\")\n",
    "#             results.append({\n",
    "#                 \"filename\": filename,\n",
    "#                 \"predicted_class\": predicted_class,\n",
    "#                 \"predicted_label\": class_names[predicted_class],\n",
    "#                 \"confidence\": confidence\n",
    "#             })\n",
    "#     results_df = pd.DataFrame(results)\n",
    "#     return results_df\n",
    "\n",
    "# # Example usage (uncomment to run):\n",
    "# results_df = predict_directory(model, \"knee/train/1\", class_names, val_transform)\n",
    "# # results_df.to_csv(\"prediction_results.csv\", index=False)\n"
   ]
  }
 ],
 "metadata": {
  "kernelspec": {
   "display_name": ".venv",
   "language": "python",
   "name": "python3"
  },
  "language_info": {
   "codemirror_mode": {
    "name": "ipython",
    "version": 3
   },
   "file_extension": ".py",
   "mimetype": "text/x-python",
   "name": "python",
   "nbconvert_exporter": "python",
   "pygments_lexer": "ipython3",
   "version": "3.12.0"
  }
 },
 "nbformat": 4,
 "nbformat_minor": 5
}
